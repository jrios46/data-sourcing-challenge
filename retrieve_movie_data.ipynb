{
 "cells": [
  {
   "cell_type": "markdown",
   "metadata": {},
   "source": [
    "### Import Required Libraries and Set Up Environment Variables"
   ]
  },
  {
   "cell_type": "code",
   "execution_count": null,
   "metadata": {},
   "outputs": [],
   "source": [
    "# Dependencies\n",
    "import requests\n",
    "import time\n",
    "from dotenv import load_dotenv\n",
    "import os\n",
    "import pandas as pd\n",
    "import json"
   ]
  },
  {
   "cell_type": "code",
   "execution_count": null,
   "metadata": {},
   "outputs": [],
   "source": [
    "# Set environment variables from the .env in the local environment\n",
    "load_dotenv()\n",
    "\n",
    "nyt_api_key = os.getenv(\"NYT_API_KEY\")\n",
    "tmdb_api_key = os.getenv(\"TMDB_API_KEY\")"
   ]
  },
  {
   "cell_type": "markdown",
   "metadata": {},
   "source": [
    "### Access the New York Times API"
   ]
  },
  {
   "cell_type": "code",
   "execution_count": null,
   "metadata": {},
   "outputs": [],
   "source": [
    "# Set the base URL\n",
    "url = \"https://api.nytimes.com/svc/search/v2/articlesearch.json?\"\n",
    "\n",
    "# Filter for movie reviews with \"love\" in the headline\n",
    "# section_name should be \"Movies\"\n",
    "# type_of_material should be \"Review\"\n",
    "filter_query = 'section_name:\"Movies\" AND type_of_material:\"Review\" AND headline:\"love\"'\n",
    "\n",
    "# Use a sort filter, sort by newest\n",
    "sort = \"newest\"\n",
    "\n",
    "# Select the following fields to return:\n",
    "# headline, web_url, snippet, source, keywords, pub_date, byline, word_count\n",
    "field_list = \"headline,web_url,snippet,source,keywords,pub_date,byline,word_count\"\n",
    "\n",
    "# Search for reviews published between a begin and end date\n",
    "begin_date = \"20130101\"\n",
    "end_date = \"20230531\"\n",
    "\n",
    "# Build URL\n",
    "query_movies = (\n",
    "    f\"{url}api-key={nyt_api_key}&begin_date={begin_date}&end_date={end_date}\"\n",
    "    + f'&fq={filter_query}&sort={sort}&fl={field_list}'\n",
    ")"
   ]
  },
  {
   "cell_type": "code",
   "execution_count": null,
   "metadata": {},
   "outputs": [],
   "source": [
    "response =requests.get(query_movies)\n",
    "response"
   ]
  },
  {
   "cell_type": "code",
   "execution_count": null,
   "metadata": {},
   "outputs": [],
   "source": [
    "# Create an empty list to store the reviews\n",
    "reviews_list = []\n",
    "#movies_per_page = 10\n",
    "\n",
    "# loop through pages 0-19\n",
    "for page in range(0,20):\n",
    "    # create query with a page number\n",
    "    #start_index = page * movies_per_page\n",
    "    #query_movies =f\"{url}api-key={nyt_api_key}&fq={filter_query}&begin_date={begin_date}&end_date={end_date}\" \n",
    "    query_movies = f\"{query_movies}&page={str(page)}\"\n",
    "    # API results show 10 articles at a time\n",
    "    # Make a \"GET\" request and retrieve the JSON\n",
    "    results = requests.get(query_movies).json()\n",
    "    # Add a twelve second interval between queries to stay within API query limits\n",
    "    time.sleep(12)\n",
    "    # Try and save the reviews to the reviews_list\n",
    "    try:\n",
    "      # loop through the reviews[\"response\"][\"docs\"] and append each review to the list\n",
    "      for doc in results[\"response\"][\"docs\"]:\n",
    "            reviews_list.append(doc)\n",
    "               \n",
    "         \n",
    "      # Print the page that was just retrieved\n",
    "      print(f\"Page {page} retrieved\")\n",
    "    except:\n",
    "     # Print the page number that had no results then break from the loop\n",
    "      print(f\"No page {page} found\")\n",
    "      break\n",
    "     "
   ]
  },
  {
   "cell_type": "code",
   "execution_count": null,
   "metadata": {},
   "outputs": [],
   "source": [
    "# Preview the first 5 results in JSON format\n",
    "# Use json.dumps with argument indent=4 to format data\n",
    "# Print results in JSON format\n",
    "print(json.dumps(reviews_list[:5], indent=4))"
   ]
  },
  {
   "cell_type": "code",
   "execution_count": null,
   "metadata": {},
   "outputs": [],
   "source": [
    "# Convert reviews_list to a Pandas DataFrame using json_normalize()\n",
    "reviews_df = pd.json_normalize(reviews_list)\n",
    "reviews_df"
   ]
  },
  {
   "cell_type": "code",
   "execution_count": null,
   "metadata": {},
   "outputs": [],
   "source": [
    "# Extract the title from the \"headline.main\" column and\n",
    "# save it to a new column \"title\"\n",
    "# Title is between unicode characters \\u2018 and \\u2019. \n",
    "# End string should include \" Review\" to avoid cutting title early\n",
    "\n",
    "reviews_df[\"title\"] = reviews_df[\"headline.main\"].apply(\n",
    "     lambda headline:headline[headline.find(\"\\u2018\")+1:headline.find(\"\\u2019 Review\")]\n",
    ")\n",
    "\n",
    "reviews_df\n"
   ]
  },
  {
   "cell_type": "code",
   "execution_count": null,
   "metadata": {},
   "outputs": [],
   "source": [
    "# Extract 'name' and 'value' from items in \"keywords\" column\n",
    "def extract_keywords(keyword_list):\n",
    "    extracted_keywords = \"\"\n",
    "    for item in keyword_list:\n",
    "        # Extract 'name' and 'value'\n",
    "        keyword = f\"{item['name']}: {item['value']};\" \n",
    "        # Append the keyword item to the extracted_keywords list\n",
    "        extracted_keywords += keyword\n",
    "    return extracted_keywords\n",
    "\n",
    "# Fix the \"keywords\" column by converting cells from a list to a string\n",
    "reviews_df[\"keywords\"] = reviews_df[\"keywords\"].apply(extract_keywords)\n",
    "\n",
    "reviews_df"
   ]
  },
  {
   "cell_type": "code",
   "execution_count": null,
   "metadata": {
    "scrolled": true
   },
   "outputs": [],
   "source": [
    "# Create a list from the \"title\" column using to_list()\n",
    "# These titles will be used in the query for The Movie Database\n",
    "title = reviews_df[\"title\"].to_list()\n",
    "titles= title\n",
    "titles"
   ]
  },
  {
   "cell_type": "markdown",
   "metadata": {},
   "source": [
    "### Access The Movie Database API"
   ]
  },
  {
   "cell_type": "code",
   "execution_count": null,
   "metadata": {},
   "outputs": [],
   "source": [
    "# Prepare The Movie Database query\n",
    "url_tmdb = \"https://api.themoviedb.org/3/search/movie?query=\"\n",
    "tmdb_key_string = \"&api_key=\" + tmdb_api_key\n"
   ]
  },
  {
   "cell_type": "code",
   "execution_count": null,
   "metadata": {},
   "outputs": [],
   "source": [
    "# Create an empty list to store the results\n",
    "tmdb_movies_list = []\n",
    "# Create a request counter to sleep the requests after a multiple\n",
    "# of 50 requests\n",
    "request_counter = 1\n",
    "#request_counter % 50 == 0\n",
    "print (\"application is sleeping\")\n",
    "time.sleep(3) \n",
    "# Loop through the titles\n",
    "for title in titles:\n",
    "    \n",
    "    print(request_counter)\n",
    "    if request_counter % 50 == 0:\n",
    "        print(request_counter)\n",
    "        time.sleep(3)\n",
    "        print(f\"Sleeping at {request_counter} requests\")\n",
    "    # Check if we need to sleep before making a request\n",
    "    # Add 1 to the request counter\n",
    "    request_counter += 1\n",
    "    # Perform a \"GET\" request for The Movie Database\n",
    "    data = requests.get(url_tmdb + title + tmdb_key_string).json()\n",
    "    # Include a try clause to search for the full movie details.\n",
    "    # Use the except clause to print out a statement if a movie\n",
    "    # is not found.\n",
    "    try:    \n",
    "     # Get movie id\n",
    "        movie_id = data[\"results\"][0][\"id\"]\n",
    "        # Make a request for a the full movie details\n",
    "        print(movie_id)\n",
    "        # Execute \"GET\" request with url\n",
    "        query_url = f\"https://api.themoviedb.org/3/movie/{movie_id}?api_key={tmdb_api_key}\"\n",
    "        response_data = requests.get(query_url).json()\n",
    "\n",
    "        #print(response_data)\n",
    "        # Extract the genre names into a list\n",
    "        # Extract the spoken_languages' English name into a list\n",
    "        # Extract the production_countries' name into a list\n",
    "            \n",
    "        #movie_details = response_data[\"results\"][0] \n",
    "        genres = [genre[\"name\"] for genre in response_data.get(\"genres\")]\n",
    "        print(genres)\n",
    "        spoken_languages = [lang['english_name'] for lang in response_data.get('spoken_languages')]\n",
    "        production_countries = [country['name'] for country in response_data.get('production_countries')]\n",
    "\n",
    "        # Add the relevant data to a dictionary and\n",
    "        # append it to the tmdb_movies_list list\n",
    "        movie_info = {\n",
    "                    \"title\": response_data['title'],\n",
    "                    \"original_title\": response_data['original_title'],\n",
    "                    \"budget\": response_data['budget'],\n",
    "                    \"genre\": genres,\n",
    "                    \"language\": response_data['original_language'],\n",
    "                    \"spoken_languages\": spoken_languages,\n",
    "                    \"homepage\": response_data['homepage'],\n",
    "                    \"overview\": response_data['overview'],\n",
    "                    \"popularity\": response_data['popularity'],\n",
    "                    \"runtime\": response_data['runtime'],\n",
    "                    \"revenue\": response_data['revenue'],\n",
    "                    \"release_date\": response_data['release_date'],\n",
    "                    \"vote_average\": response_data['vote_average'],\n",
    "                    \"vote_count\": response_data['vote_count'],\n",
    "                    \"production_countries\": production_countries\n",
    "                    }\n",
    "        tmdb_movies_list.append(movie_info)\n",
    "    except Exception as e: \n",
    "        # Print out the title that was found\n",
    "        print(f\"No page {title} found\",e)\n"
   ]
  },
  {
   "cell_type": "code",
   "execution_count": null,
   "metadata": {},
   "outputs": [],
   "source": [
    "# Preview the first 5 results in JSON format\n",
    "# Use json.dumps with argument indent=4 to format data\n",
    "\n",
    "# Print results in JSON format\n",
    "print(json.dumps(tmdb_movies_list[:5], indent=4))"
   ]
  },
  {
   "cell_type": "code",
   "execution_count": null,
   "metadata": {},
   "outputs": [],
   "source": [
    "# Convert the results to a DataFrame\n",
    "tmdb_df = pd.DataFrame(tmdb_movies_list)\n",
    "tmdb_df "
   ]
  },
  {
   "cell_type": "markdown",
   "metadata": {},
   "source": [
    "### Merge and Clean the Data for Export"
   ]
  },
  {
   "cell_type": "code",
   "execution_count": null,
   "metadata": {
    "scrolled": true
   },
   "outputs": [],
   "source": [
    "# Merge the New York Times reviews and TMDB DataFrames on title\n",
    "merged_df = pd.merge(tmdb_df, reviews_df, how=\"inner\", on=\"title\")\n",
    "merged_df"
   ]
  },
  {
   "cell_type": "code",
   "execution_count": null,
   "metadata": {},
   "outputs": [],
   "source": [
    "# Remove list brackets and quotation marks on the columns containing lists\n",
    "# Create a list of the columns that need fixing\n",
    "columns_to_fix = [\"genre\", \"spoken_languages\", \"production_countries\"]\n",
    "# Create a list of characters to remove\n",
    "characters_to_remove = [\"[\", \"]\", \"'\"]   \n",
    "# Loop through the list of columns to fix\n",
    "for column in columns_to_fix:\n",
    "    # Convert the column to type 'str'\n",
    "    merged_df[column] = merged_df[column].astype(\"str\")\n",
    "    # Loop through characters to remove\n",
    "    for character in characters_to_remove:\n",
    "        merged_df[column] = merged_df[column].str.replace(character, \"\", regex=False)\n",
    "\n",
    "# Display the fixed DataFrame\n",
    "merged_df\n"
   ]
  },
  {
   "cell_type": "code",
   "execution_count": null,
   "metadata": {},
   "outputs": [],
   "source": [
    "# Drop \"byline.person\" column\n",
    "merged_df = merged_df.drop(\"byline.person\", axis=1)"
   ]
  },
  {
   "cell_type": "code",
   "execution_count": null,
   "metadata": {},
   "outputs": [],
   "source": [
    "# Delete duplicate rows and reset index\n",
    "merged_df =merged_df.drop_duplicates()\n",
    "\n",
    "merged_df = merged_df.reset_index(drop=True)"
   ]
  },
  {
   "cell_type": "code",
   "execution_count": null,
   "metadata": {},
   "outputs": [],
   "source": [
    "# Export data to CSV without the index\n",
    "merged_df.to_csv(\"merged_movie_data.csv\", index=False)"
   ]
  },
  {
   "cell_type": "code",
   "execution_count": null,
   "metadata": {},
   "outputs": [],
   "source": []
  }
 ],
 "metadata": {
  "kernelspec": {
   "display_name": "Python 3 (ipykernel)",
   "language": "python",
   "name": "python3"
  },
  "language_info": {
   "codemirror_mode": {
    "name": "ipython",
    "version": 3
   },
   "file_extension": ".py",
   "mimetype": "text/x-python",
   "name": "python",
   "nbconvert_exporter": "python",
   "pygments_lexer": "ipython3",
   "version": "3.11.7"
  },
  "varInspector": {
   "cols": {
    "lenName": 16,
    "lenType": 16,
    "lenVar": 40
   },
   "kernels_config": {
    "python": {
     "delete_cmd_postfix": "",
     "delete_cmd_prefix": "del ",
     "library": "var_list.py",
     "varRefreshCmd": "print(var_dic_list())"
    },
    "r": {
     "delete_cmd_postfix": ") ",
     "delete_cmd_prefix": "rm(",
     "library": "var_list.r",
     "varRefreshCmd": "cat(var_dic_list()) "
    }
   },
   "types_to_exclude": [
    "module",
    "function",
    "builtin_function_or_method",
    "instance",
    "_Feature"
   ],
   "window_display": false
  }
 },
 "nbformat": 4,
 "nbformat_minor": 2
}
